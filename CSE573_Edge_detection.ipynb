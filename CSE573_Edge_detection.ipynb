{
  "nbformat": 4,
  "nbformat_minor": 0,
  "metadata": {
    "colab": {
      "name": "CSE573 Edge detection.ipynb",
      "version": "0.3.2",
      "provenance": [],
      "include_colab_link": true
    },
    "kernelspec": {
      "name": "python3",
      "display_name": "Python 3"
    }
  },
  "cells": [
    {
      "cell_type": "markdown",
      "metadata": {
        "id": "view-in-github",
        "colab_type": "text"
      },
      "source": [
        "[View in Colaboratory](https://colab.research.google.com/github/MicroprocessorX069/Edge-Detection-/blob/master/CSE573_Edge_detection.ipynb)"
      ]
    },
    {
      "metadata": {
        "id": "BXnQ19b5Xf0L",
        "colab_type": "text"
      },
      "cell_type": "markdown",
      "source": [
        "Applying Horizontal Convolution for horizontal edge detection"
      ]
    },
    {
      "metadata": {
        "id": "galoABvT4El2",
        "colab_type": "code",
        "colab": {
          "base_uri": "https://localhost:8080/",
          "height": 68
        },
        "outputId": "e296e9cf-671e-46e0-e14c-8b7b65f6e51e"
      },
      "cell_type": "code",
      "source": [
        "#reading the image using cv2.imread\n"
      ],
      "execution_count": 15,
      "outputs": [
        {
          "output_type": "stream",
          "text": [
            "Collecting cv2\n",
            "\u001b[31m  Could not find a version that satisfies the requirement cv2 (from versions: )\u001b[0m\n",
            "\u001b[31mNo matching distribution found for cv2\u001b[0m\n"
          ],
          "name": "stdout"
        }
      ]
    },
    {
      "metadata": {
        "id": "S5Wx7aMxAmZe",
        "colab_type": "code",
        "colab": {
          "base_uri": "https://localhost:8080/",
          "height": 122
        },
        "outputId": "d1fca8da-27b7-4d8f-a893-d97659f17122"
      },
      "cell_type": "code",
      "source": [
        "from google.colab import drive\n",
        "drive.mount('/gdrive')"
      ],
      "execution_count": 3,
      "outputs": [
        {
          "output_type": "stream",
          "text": [
            "Go to this URL in a browser: https://accounts.google.com/o/oauth2/auth?client_id=947318989803-6bn6qk8qdgf4n4g3pfee6491hc0brc4i.apps.googleusercontent.com&redirect_uri=urn%3Aietf%3Awg%3Aoauth%3A2.0%3Aoob&scope=email%20https%3A%2F%2Fwww.googleapis.com%2Fauth%2Fdocs.test%20https%3A%2F%2Fwww.googleapis.com%2Fauth%2Fdrive%20https%3A%2F%2Fwww.googleapis.com%2Fauth%2Fdrive.photos.readonly%20https%3A%2F%2Fwww.googleapis.com%2Fauth%2Fpeopleapi.readonly&response_type=code\n",
            "\n",
            "Enter your authorization code:\n",
            "··········\n",
            "Mounted at /gdrive\n"
          ],
          "name": "stdout"
        }
      ]
    },
    {
      "metadata": {
        "id": "hLLKYjGO4kQK",
        "colab_type": "code",
        "colab": {
          "base_uri": "https://localhost:8080/",
          "height": 136
        },
        "outputId": "0d59c6f5-2e16-4df4-8e6f-47a532b31bec"
      },
      "cell_type": "code",
      "source": [
        "import cv2\n",
        "import matplotlib.pyplot as plt\n",
        "import numpy as np\n",
        "#uploading file from local system\n",
        "\n",
        "#from google.colab import files\n",
        "#uploaded = files.upload()\n",
        "#reading the image using cv2.imread\n",
        "\n",
        "input_image=cv2.imread(\"task1.png\",0) #make sure the path to the image is in String format\n",
        "print(input_image)\n",
        "\n",
        "#plt.imshow(input_image)\n",
        "\n",
        "\n",
        "\n"
      ],
      "execution_count": 5,
      "outputs": [
        {
          "output_type": "stream",
          "text": [
            "[[203 203 203 ... 247 247 247]\n",
            " [203 208 204 ... 247 247 247]\n",
            " [204 203 208 ... 247 247 247]\n",
            " ...\n",
            " [144 147 144 ... 139 147 136]\n",
            " [155 152 153 ... 144 152 160]\n",
            " [160 160 155 ... 155 160 160]]\n"
          ],
          "name": "stdout"
        }
      ]
    },
    {
      "metadata": {
        "id": "QcgYnstvXfGe",
        "colab_type": "code",
        "colab": {}
      },
      "cell_type": "code",
      "source": [
        "#Padding input image border with zeroes for convolution \n",
        "padded_input=np.pad(input_image,(1,1),'constant')"
      ],
      "execution_count": 0,
      "outputs": []
    },
    {
      "metadata": {
        "id": "TcV56Ch3fWcK",
        "colab_type": "code",
        "colab": {}
      },
      "cell_type": "code",
      "source": [
        "import numpy as np\n",
        "#input_image=np.array([[10,10,10,0,0,0],[10,10,10,0,0,0],[10,10,10,0,0,0],[10,10,10,0,0,0],[10,10,10,0,0,0],[10,10,10,0,0,0]])\n",
        "#plt.imshow(input_image)\n",
        "input_image=np.array(input_image)\n",
        "padded_input=np.pad(input_image,(1,1),'constant')\n",
        "padded_input=np.array(padded_input)\n",
        "\n",
        "horizontal_sobel_op=np.array([[1,2,1],[0,0,0],[-1,-2,-1]])\n",
        "new_image=np.zeros((len(input_image),len(input_image[0])))\n",
        "for x in range(len(input_image)):\n",
        "  for y in range(len(input_image[0])):\n",
        "    new_image[x,y]=padded_input[x,y]*horizontal_sobel_op[0,0]+padded_input[x,y+1]*horizontal_sobel_op[0,1]+padded_input[x,y+2]*horizontal_sobel_op[0,2]+padded_input[x+1,y]*horizontal_sobel_op[1,0]+padded_input[x+1,y+1]*horizontal_sobel_op[1,1]+padded_input[x+1,y+2]*horizontal_sobel_op[1,2]+padded_input[x+2,y]*horizontal_sobel_op[2,0]+padded_input[x+2,y+1]*horizontal_sobel_op[2,1]+padded_input[x+2,y+2]*horizontal_sobel_op[2,2]\n",
        "\n"
      ],
      "execution_count": 0,
      "outputs": []
    },
    {
      "metadata": {
        "id": "7W0oIUUQj8el",
        "colab_type": "code",
        "colab": {
          "base_uri": "https://localhost:8080/",
          "height": 366
        },
        "outputId": "c35617a2-f1b6-4876-94a1-18ded7f535e4"
      },
      "cell_type": "code",
      "source": [
        "new_image2=np.zeros((len(input_image),len(input_image[0])))\n",
        "for x in range(len(input_image)):\n",
        "  for y in range(len(input_image[0])):\n",
        "      if(new_image[x,y]>=50):\n",
        "        new_image2[x,y]=1000\n",
        "      else:\n",
        "        new_image2[x,y]=-1000\n",
        "      \n",
        "    \n",
        "    \n",
        "plt.imshow(new_image2)\n",
        "#print(new_image)"
      ],
      "execution_count": 20,
      "outputs": [
        {
          "output_type": "execute_result",
          "data": {
            "text/plain": [
              "<matplotlib.image.AxesImage at 0x7fb342f992b0>"
            ]
          },
          "metadata": {
            "tags": []
          },
          "execution_count": 20
        },
        {
          "output_type": "display_data",
          "data": {
            "image/png": "[encoded data removed]",
            "text/plain": [
              "<matplotlib.figure.Figure at 0x7fb33ed69630>"
            ]
          },
          "metadata": {
            "tags": []
          }
        }
      ]
    },
    {
      "metadata": {
        "id": "HohGXneXjf_F",
        "colab_type": "code",
        "colab": {
          "base_uri": "https://localhost:8080/",
          "height": 34
        },
        "outputId": "c01282fa-599b-40c9-9275-1762d3db36c0"
      },
      "cell_type": "code",
      "source": [
        "np.min(new_image)"
      ],
      "execution_count": 10,
      "outputs": [
        {
          "output_type": "execute_result",
          "data": {
            "text/plain": [
              "-988.0"
            ]
          },
          "metadata": {
            "tags": []
          },
          "execution_count": 10
        }
      ]
    }
  ]
}